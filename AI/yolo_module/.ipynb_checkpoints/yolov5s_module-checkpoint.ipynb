{
 "cells": [
  {
   "cell_type": "code",
   "execution_count": 1,
   "id": "c97e6e14",
   "metadata": {},
   "outputs": [],
   "source": [
    "import torch.nn as nn\n",
    "import torch"
   ]
  },
  {
   "cell_type": "markdown",
   "id": "1fce90c8",
   "metadata": {},
   "source": [
    "### 1.conv\n",
    "torch.nn.Conv2d(in_channels, # 参数代表输入特征矩阵的深度即channel，比如输入一张RGB彩色图像，那in_channels=3  \n",
    "           out_channels, # 参数代表卷积核的个数，使用n个卷积核输出的特征矩阵深度即channel就是n  \n",
    "           kernel_size,             \n",
    "           stride=1,            \n",
    "           padding=0,  # padding双向 计算时为2p             \n",
    "           dilation=1,             \n",
    "           groups=1,             \n",
    "           bias=True,             \n",
    "           padding_mode='zeros') # 计算时小数忽略掉  \n",
    "           "
   ]
  },
  {
   "cell_type": "code",
   "execution_count": 2,
   "id": "3f44bdcd",
   "metadata": {},
   "outputs": [
    {
     "name": "stdout",
     "output_type": "stream",
     "text": [
      "torch.Size([1, 3, 640, 640])\n",
      "torch.Size([1, 32, 320, 320])\n"
     ]
    }
   ],
   "source": [
    "im = torch.randn([1, 3, 640, 640])\n",
    "print(im.shape)\n",
    "\n",
    "conv = nn.Conv2d(1, 1, kernel_size=6, stride=2, padding=2)\n",
    "conv.weight.data = torch.randn([32, 3, 6, 6])\n",
    "conv.bias.data = torch.randn(32)\n",
    "\n",
    "output = conv(im)\n",
    "print(output.shape)"
   ]
  },
  {
   "cell_type": "markdown",
   "id": "58d06191",
   "metadata": {},
   "source": [
    "###  2.mul\n",
    "tensor乘法，对应位置相乘，输出shape大小取决于shape最大的"
   ]
  },
  {
   "cell_type": "code",
   "execution_count": 12,
   "id": "c8ba1e82",
   "metadata": {},
   "outputs": [
    {
     "name": "stdout",
     "output_type": "stream",
     "text": [
      "tensor(1)\n",
      "tensor([[ 2,  6],\n",
      "        [ 6, 12]])\n",
      "torch.Size([2, 2])\n"
     ]
    }
   ],
   "source": [
    "# tensor乘法，对应位置相乘，输出shape大小取决于shape最大的\n",
    "c = torch.tensor([[1, 2], [3, 4]])\n",
    "d = torch.tensor([[2, 3], [2, 3]])\n",
    "print(c[0][0])\n",
    "print(c*d)\n",
    "print((c*d).shape)"
   ]
  },
  {
   "cell_type": "markdown",
   "id": "0c8f2b81",
   "metadata": {},
   "source": [
    "### 3.sigmiod\n"
   ]
  },
  {
   "cell_type": "code",
   "execution_count": 13,
   "id": "aa5ecd0c",
   "metadata": {},
   "outputs": [
    {
     "name": "stdout",
     "output_type": "stream",
     "text": [
      "torch.Size([1, 32, 320, 320])\n"
     ]
    }
   ],
   "source": [
    "sigmoid = nn.Sigmoid()\n",
    "out = sigmoid(output)\n",
    "print(out.shape)\n",
    "out = output * sigmoid(output)"
   ]
  },
  {
   "cell_type": "markdown",
   "id": "c2152860",
   "metadata": {},
   "source": [
    "### 4.concat\n",
    "-1:最后一行拼接"
   ]
  },
  {
   "cell_type": "code",
   "execution_count": 16,
   "id": "783c57e9",
   "metadata": {},
   "outputs": [
    {
     "data": {
      "text/plain": [
       "(torch.Size([1, 6, 3, 3]),\n",
       " torch.Size([1, 3, 3, 6]),\n",
       " tensor([[[[ 0.4016,  0.0119,  0.6903],\n",
       "           [ 0.4645,  0.7372, -0.3828],\n",
       "           [ 0.5392, -0.7477,  0.6270]],\n",
       " \n",
       "          [[-2.4104,  1.5953,  1.3159],\n",
       "           [ 0.1681,  0.4798, -0.5721],\n",
       "           [ 0.3801, -1.0804, -0.1560]],\n",
       " \n",
       "          [[ 0.0092, -0.0570, -2.1333],\n",
       "           [-1.2557, -1.2996, -0.9345],\n",
       "           [ 0.4598,  1.2953, -0.3510]],\n",
       " \n",
       "          [[-0.2296,  0.6702, -1.2109],\n",
       "           [ 0.9283, -0.0712,  1.4104],\n",
       "           [ 0.5527, -0.1876, -0.9190]],\n",
       " \n",
       "          [[-2.1579, -0.8180, -1.3417],\n",
       "           [ 0.1302,  1.1660, -0.8441],\n",
       "           [-0.9415,  0.9346,  1.3974]],\n",
       " \n",
       "          [[ 0.0852, -0.9057,  2.7632],\n",
       "           [ 3.6334, -1.0795, -0.4441],\n",
       "           [-0.5153, -0.1799, -0.3969]]]]),\n",
       " tensor([[[[ 0.4016,  0.0119,  0.6903, -0.2296,  0.6702, -1.2109],\n",
       "           [ 0.4645,  0.7372, -0.3828,  0.9283, -0.0712,  1.4104],\n",
       "           [ 0.5392, -0.7477,  0.6270,  0.5527, -0.1876, -0.9190]],\n",
       " \n",
       "          [[-2.4104,  1.5953,  1.3159, -2.1579, -0.8180, -1.3417],\n",
       "           [ 0.1681,  0.4798, -0.5721,  0.1302,  1.1660, -0.8441],\n",
       "           [ 0.3801, -1.0804, -0.1560, -0.9415,  0.9346,  1.3974]],\n",
       " \n",
       "          [[ 0.0092, -0.0570, -2.1333,  0.0852, -0.9057,  2.7632],\n",
       "           [-1.2557, -1.2996, -0.9345,  3.6334, -1.0795, -0.4441],\n",
       "           [ 0.4598,  1.2953, -0.3510, -0.5153, -0.1799, -0.3969]]]]))"
      ]
     },
     "execution_count": 16,
     "metadata": {},
     "output_type": "execute_result"
    }
   ],
   "source": [
    "a = torch.randn([1,3,3,3])\n",
    "b = torch.randn([1,3,3,3])\n",
    "concat1 = torch.cat((a, b), 1)\n",
    "concat2 = torch.cat((a, b), -1)\n",
    "concat1.shape, concat2.shape,concat1,concat2"
   ]
  },
  {
   "cell_type": "markdown",
   "id": "21fd247e",
   "metadata": {},
   "source": [
    "### 5.reshape"
   ]
  },
  {
   "cell_type": "code",
   "execution_count": 18,
   "id": "5d8304ef",
   "metadata": {},
   "outputs": [
    {
     "data": {
      "text/plain": [
       "(torch.Size([1, 3, 3, 3]),\n",
       " tensor([[[[ 0.0665],\n",
       "           [ 0.1563],\n",
       "           [ 0.9765]],\n",
       " \n",
       "          [[ 0.7202],\n",
       "           [ 1.3021],\n",
       "           [-0.8556]],\n",
       " \n",
       "          [[-0.3020],\n",
       "           [-0.4009],\n",
       "           [ 1.1986]]],\n",
       " \n",
       " \n",
       "         [[[-1.3320],\n",
       "           [-0.7188],\n",
       "           [-1.5247]],\n",
       " \n",
       "          [[-1.0172],\n",
       "           [-0.4447],\n",
       "           [-0.3046]],\n",
       " \n",
       "          [[-2.6674],\n",
       "           [ 0.5087],\n",
       "           [ 1.2057]]],\n",
       " \n",
       " \n",
       "         [[[-0.8944],\n",
       "           [-1.2396],\n",
       "           [ 0.3444]],\n",
       " \n",
       "          [[ 1.0384],\n",
       "           [-1.5023],\n",
       "           [-0.9823]],\n",
       " \n",
       "          [[-1.5396],\n",
       "           [-0.4714],\n",
       "           [-1.0320]]]]),\n",
       " tensor([[[[ 0.0665,  0.1563,  0.9765],\n",
       "           [ 0.7202,  1.3021, -0.8556],\n",
       "           [-0.3020, -0.4009,  1.1986]],\n",
       " \n",
       "          [[-1.3320, -0.7188, -1.5247],\n",
       "           [-1.0172, -0.4447, -0.3046],\n",
       "           [-2.6674,  0.5087,  1.2057]],\n",
       " \n",
       "          [[-0.8944, -1.2396,  0.3444],\n",
       "           [ 1.0384, -1.5023, -0.9823],\n",
       "           [-1.5396, -0.4714, -1.0320]]]]))"
      ]
     },
     "execution_count": 18,
     "metadata": {},
     "output_type": "execute_result"
    }
   ],
   "source": [
    "e = torch.randn([1,3,3,3])\n",
    "e_reshape = e.reshape([3,3,3,1])\n",
    "e.shape,e_reshape,e"
   ]
  },
  {
   "cell_type": "markdown",
   "id": "48dbc984",
   "metadata": {},
   "source": [
    "### 6.maxpool\n",
    "non-empty 3D or 4D (batch mode) tensor expected for input\n",
    "输入至少是3维tensor"
   ]
  },
  {
   "cell_type": "code",
   "execution_count": 35,
   "id": "afe6e647",
   "metadata": {},
   "outputs": [
    {
     "data": {
      "text/plain": [
       "(tensor([[[[0., 1., 2.],\n",
       "           [3., 4., 5.],\n",
       "           [6., 7., 8.]]]]),\n",
       " torch.Size([1, 1, 3, 3]),\n",
       " tensor([[[[4., 5.],\n",
       "           [7., 8.]]]]),\n",
       " torch.Size([1, 1, 2, 2]))"
      ]
     },
     "execution_count": 35,
     "metadata": {},
     "output_type": "execute_result"
    }
   ],
   "source": [
    "maxpool = nn.MaxPool2d(kernel_size=2,stride=1,padding=0)\n",
    "# f = torch.randn([2, 3, 3, 3])\n",
    "f = torch.arange(9, dtype=torch.float).reshape([1, 1, 3, 3])\n",
    "f_out = maxpool(f)\n",
    "f,f.shape,f_out,f_out.shape"
   ]
  },
  {
   "cell_type": "markdown",
   "id": "58a37167",
   "metadata": {},
   "source": [
    "### 7.add sub pow\n",
    "对应位置作为base和power"
   ]
  },
  {
   "cell_type": "code",
   "execution_count": 40,
   "id": "442d1e5a",
   "metadata": {},
   "outputs": [
    {
     "data": {
      "text/plain": [
       "(tensor([[[[ 2.,  3.,  4.],\n",
       "           [ 5.,  6.,  7.],\n",
       "           [ 8.,  9., 10.]]]]),\n",
       " tensor([[[[-0.5000,  0.5000,  1.5000],\n",
       "           [ 2.5000,  3.5000,  4.5000],\n",
       "           [ 5.5000,  6.5000,  7.5000]]]]),\n",
       " tensor([[[[ 0.,  1.,  4.],\n",
       "           [ 9., 16., 25.],\n",
       "           [36., 49., 64.]]]]))"
      ]
     },
     "execution_count": 40,
     "metadata": {},
     "output_type": "execute_result"
    }
   ],
   "source": [
    "g = torch.arange(9, dtype=torch.float).reshape([1, 1, 3, 3])\n",
    "g_add = g + 2\n",
    "g_sub = g - 0.5\n",
    "g_pow = torch.pow(g, 2)\n",
    "g_add,g_sub,g_pow"
   ]
  },
  {
   "cell_type": "markdown",
   "id": "e6f83e06",
   "metadata": {},
   "source": [
    "### 8.resize\n",
    "可能比较难写"
   ]
  },
  {
   "cell_type": "code",
   "execution_count": 48,
   "id": "df41faf4",
   "metadata": {},
   "outputs": [
    {
     "data": {
      "text/plain": [
       "(tensor([[[[0., 1., 2.],\n",
       "           [3., 4., 5.]]]]),\n",
       " tensor([[[[0.0000e+00, 1.4901e-08, 3.3333e-01, 6.6667e-01, 1.0000e+00,\n",
       "            1.3333e+00, 1.6667e+00, 2.0000e+00, 2.0000e+00],\n",
       "           [7.5000e-01, 7.5000e-01, 1.0833e+00, 1.4167e+00, 1.7500e+00,\n",
       "            2.0833e+00, 2.4167e+00, 2.7500e+00, 2.7500e+00],\n",
       "           [2.2500e+00, 2.2500e+00, 2.5833e+00, 2.9167e+00, 3.2500e+00,\n",
       "            3.5833e+00, 3.9167e+00, 4.2500e+00, 4.2500e+00],\n",
       "           [3.0000e+00, 3.0000e+00, 3.3333e+00, 3.6667e+00, 4.0000e+00,\n",
       "            4.3333e+00, 4.6667e+00, 5.0000e+00, 5.0000e+00]]]]))"
      ]
     },
     "execution_count": 48,
     "metadata": {},
     "output_type": "execute_result"
    }
   ],
   "source": [
    "from torchvision.transforms import Resize\n",
    "\n",
    "torch_resize = Resize([4,9]) # 定义Resize类对象\n",
    "h = torch.arange(6, dtype=torch.float).reshape([1, 1, 2, 3])\n",
    "h_resize = torch_resize(h)\n",
    "h,h_resize"
   ]
  },
  {
   "cell_type": "markdown",
   "id": "d02760f0",
   "metadata": {},
   "source": [
    "### 9.transpose\n",
    "与reshape不同，\n",
    "多维时用permute,y[c][b][a] = x[a][b][c]"
   ]
  },
  {
   "cell_type": "code",
   "execution_count": 43,
   "id": "ebadb297",
   "metadata": {},
   "outputs": [
    {
     "data": {
      "text/plain": [
       "(tensor([[[0., 1., 2.],\n",
       "          [3., 4., 5.]]]),\n",
       " tensor([[[0.],\n",
       "          [3.]],\n",
       " \n",
       "         [[1.],\n",
       "          [4.]],\n",
       " \n",
       "         [[2.],\n",
       "          [5.]]]),\n",
       " torch.Size([3, 2, 1]))"
      ]
     },
     "execution_count": 43,
     "metadata": {},
     "output_type": "execute_result"
    }
   ],
   "source": [
    "i = torch.arange(6, dtype=torch.float).reshape([1, 2, 3])\n",
    "i_reshape = i.reshape([ 3, 2, 1])\n",
    "i_permute = i.permute(2, 1, 0)\n",
    "i,i_permute,i_permute.shape"
   ]
  },
  {
   "cell_type": "markdown",
   "id": "6bb93438",
   "metadata": {},
   "source": [
    "### 10.slice"
   ]
  },
  {
   "cell_type": "code",
   "execution_count": null,
   "id": "3ddf8837",
   "metadata": {},
   "outputs": [],
   "source": []
  }
 ],
 "metadata": {
  "kernelspec": {
   "display_name": "Python 3 (ipykernel)",
   "language": "python",
   "name": "python3"
  },
  "language_info": {
   "codemirror_mode": {
    "name": "ipython",
    "version": 3
   },
   "file_extension": ".py",
   "mimetype": "text/x-python",
   "name": "python",
   "nbconvert_exporter": "python",
   "pygments_lexer": "ipython3",
   "version": "3.9.12"
  }
 },
 "nbformat": 4,
 "nbformat_minor": 5
}
